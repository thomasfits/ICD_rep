{
 "cells": [
  {
   "cell_type": "markdown",
   "metadata": {},
   "source": [
    "# Introdução à Ciência de Dados - UFPB\n",
    "Professor: Yuri Malheiros\n",
    "\n",
    "## Python - Random - Exercício"
   ]
  },
  {
   "cell_type": "markdown",
   "metadata": {},
   "source": [
    "Implemente a função `generate_password` que deve gerar uma senha aleatória.\n",
    "\n",
    "A função tem tres parâmetros:\n",
    "\n",
    "- `n_chars` especifica o tamanho da senha gerada\n",
    "- `use_numbers` especifica se números podem ser usados na senha. Por padrão, esse parâmetro tem valor True\n",
    "- `use_special_chars` especifica se caracteres especiais, por exemplo !#%&@?, pode ser usados na senha. Por padrão, esse parâmetro tem valor True\n",
    "\n",
    "Note que se `use_numbers` e `use_special_chars` tiverem valor False, a senha terá apenas letras maiúsculas ou minúsculas."
   ]
  },
  {
   "cell_type": "code",
   "execution_count": 1,
   "metadata": {},
   "outputs": [],
   "source": [
    "import random\r\n",
    "\r\n",
    "def generate_password(n_chars, use_numbers=True, use_special_chars=True):\r\n",
    "    #criando listas com os conjuntos que podem ou não ser usados na senha\r\n",
    "    password = []\r\n",
    "    letters_chars = [\r\n",
    "        'a', 'b', 'c', 'd', 'e', 'f', 'g', 'h', 'i', 'j', 'k', 'l', 'm',\r\n",
    "        'n', 'o', 'p', 'q', 'r', 's', 't', 'u', 'v', 'w', 'x', 'y', 'z'\r\n",
    "    ]\r\n",
    "    numbers_chars = [\r\n",
    "        '0', '1', '2', '3', '4', '5', '6', '7', '8', '9'\r\n",
    "    ]\r\n",
    "    special_chars = [\r\n",
    "        '!', '@', '#', '$', '&', '*', '(', ')', '[', ']', '{', '}', '?', ':'\r\n",
    "    ]\r\n",
    "    full_chars = letters_chars + special_chars + numbers_chars\r\n",
    "    letter_special = letters_chars + special_chars\r\n",
    "    letter_numbers = letters_chars + numbers_chars\r\n",
    "\r\n",
    "    \"\"\"\r\n",
    "    fazendo operações lógicas para analisar qual conjunto deve ser usado na senha, depois\r\n",
    "    criando uma lista com o tamanho do n_chars e depois transformando a lista em uma string\r\n",
    "    para retornar a senha\r\n",
    "    \"\"\"\r\n",
    "    if use_special_chars == False and use_numbers == False:\r\n",
    "\r\n",
    "        password += random.choices(letters_chars, k = n_chars)\r\n",
    "        password = ''.join(str(x) for x in password)\r\n",
    "        return password\r\n",
    "    \r\n",
    "\r\n",
    "    if use_numbers == False:\r\n",
    "\r\n",
    "        password += random.choices(letter_special, k = n_chars)\r\n",
    "        password = ''.join(str(x) for x in password)\r\n",
    "        return password\r\n",
    "\r\n",
    "    if use_special_chars == False:\r\n",
    "\r\n",
    "        password += random.choices(letter_numbers, k = n_chars)\r\n",
    "        password = ''.join(str(x) for x in password)\r\n",
    "        return password\r\n",
    "\r\n",
    "    password += random.choices(full_chars, k = n_chars)\r\n",
    "    password = ''.join(str(x) for x in password)\r\n",
    "    return password"
   ]
  },
  {
   "cell_type": "code",
   "execution_count": 2,
   "metadata": {},
   "outputs": [
    {
     "name": "stdout",
     "output_type": "stream",
     "text": [
      "![:9ux}fjt\n",
      "{{j{)qsv[(\n",
      "bvmeogicsr\n"
     ]
    }
   ],
   "source": [
    "print(generate_password(10))\n",
    "print(generate_password(10, use_numbers=False))\n",
    "print(generate_password(10, use_numbers=False, use_special_chars=False))"
   ]
  }
 ],
 "metadata": {
  "kernelspec": {
   "display_name": "Python 3.9.4 64-bit",
   "name": "python394jvsc74a57bd08ed6bb9289f97f599f4c20960775121e470aad293b39be6427f6d63c6f82a347"
  },
  "language_info": {
   "name": "python",
   "version": ""
  },
  "metadata": {
   "interpreter": {
    "hash": "8ed6bb9289f97f599f4c20960775121e470aad293b39be6427f6d63c6f82a347"
   }
  }
 },
 "nbformat": 4,
 "nbformat_minor": 4
}